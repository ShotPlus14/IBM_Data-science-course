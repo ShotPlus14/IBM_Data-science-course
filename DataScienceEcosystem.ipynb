{
  "metadata": {
    "kernelspec": {
      "name": "python",
      "display_name": "Python (Pyodide)",
      "language": "python"
    },
    "language_info": {
      "codemirror_mode": {
        "name": "python",
        "version": 3
      },
      "file_extension": ".py",
      "mimetype": "text/x-python",
      "name": "python",
      "nbconvert_exporter": "python",
      "pygments_lexer": "ipython3",
      "version": "3.8"
    }
  },
  "nbformat_minor": 4,
  "nbformat": 4,
  "cells": [
    {
      "cell_type": "markdown",
      "source": "**Exercise 2 - Create a markdown cell with the title of the notebook. (1 pt)**\r\n",
      "metadata": {}
    },
    {
      "cell_type": "markdown",
      "source": "<strong><center>Data Science Tools and Ecosystem</strong></center>",
      "metadata": {}
    },
    {
      "cell_type": "markdown",
      "source": "**Exercise 3 - Create a markdown cell for an introduction. (1 pt)**",
      "metadata": {}
    },
    {
      "cell_type": "markdown",
      "source": "In this notebook, Data Science Tools and Ecosystem are summarized.\n",
      "metadata": {}
    },
    {
      "cell_type": "markdown",
      "source": "**Exercise 4 - Create a markdown cell to list data science languages. (3 pts)**\n",
      "metadata": {}
    },
    {
      "cell_type": "markdown",
      "source": "Some of the popular languages that Data Scientists use are:\n\nOrdered List:\n- Python\n- Pandas\n- SQL\n```python\nordered_list = ['python','rstudio','SQL']\n```",
      "metadata": {}
    },
    {
      "cell_type": "markdown",
      "source": "**Exercise 5 - Create a markdown cell to list data science libraries**\r\n",
      "metadata": {}
    },
    {
      "cell_type": "markdown",
      "source": "\nSome of the commonly used libraries used by Data Scientists include:\n\nordered list:\n- Numpy\n- Pandas\n- Sckitlearn",
      "metadata": {}
    },
    {
      "cell_type": "markdown",
      "source": "**Exercise 6 - Create a markdown cell with a table of Data Science tools. (3 pts)**\r\n",
      "metadata": {}
    },
    {
      "cell_type": "markdown",
      "source": "| Development Environment Tools |\n|-------------------------------|\n| Jupyter Notebooks             |\n| RStudio                       |\n| VS Code + Python Extension    |\n",
      "metadata": {}
    },
    {
      "cell_type": "markdown",
      "source": "**Exercise 7 - Create a markdown cell introducing arithmetic expression examples. (1 pt)**",
      "metadata": {}
    },
    {
      "cell_type": "markdown",
      "source": "### Below are a few examples of evaluating arithmetic expressions in Python.\r\n3+2=5n    |\r\n",
      "metadata": {}
    },
    {
      "cell_type": "markdown",
      "source": "**Exercise 8 - Create a code cell to multiply and add numbers. (2 pts)**\r\n",
      "metadata": {}
    },
    {
      "cell_type": "code",
      "source": "#This a simple arithmetic expression to mutiply then add integers\n(3*4)+5",
      "metadata": {
        "trusted": true
      },
      "outputs": [
        {
          "execution_count": 5,
          "output_type": "execute_result",
          "data": {
            "text/plain": "17"
          },
          "metadata": {}
        }
      ],
      "execution_count": 5
    },
    {
      "cell_type": "markdown",
      "source": "**Exercise 9 - Create a code cell to convert minutes to hours. (2 pts)**\r\n",
      "metadata": {}
    },
    {
      "cell_type": "code",
      "source": "# This will convert 200 minutes to hours by dividing by 60:\nA = round(200 / 60, 2)\nprint(\"There is \" + str(A) + \" hours\")",
      "metadata": {
        "trusted": true
      },
      "outputs": [
        {
          "name": "stdout",
          "text": "There is 3.33 hours\n",
          "output_type": "stream"
        }
      ],
      "execution_count": 10
    },
    {
      "cell_type": "markdown",
      "source": "**Exercise 10 -Insert a markdown cell to list Objectives. (3 pts)**\r\n",
      "metadata": {}
    },
    {
      "cell_type": "markdown",
      "source": "In this notebook, Data Science Tools and Ecosystem are summarized.\r\n\r\n**Objectives:**\r\n\r\n- Understand key data science tools and their applications.\r\n- Explore the ecosystem supporting data science workflows.\r\n- Learn about popular programming languages in data science.\r\n- Gain insights into open-source tools used for data analysis and visualization.\r\n- Recognize the importance of version control and collaboration in data science projects.",
      "metadata": {}
    },
    {
      "cell_type": "markdown",
      "source": "**Exercise 11 - Create a markdown cell to indicate the Author’s name. (2 pts)**\r\n",
      "metadata": {}
    },
    {
      "cell_type": "markdown",
      "source": "## Author",
      "metadata": {}
    },
    {
      "cell_type": "markdown",
      "source": "<i>Ricardo Suárez</i>",
      "metadata": {}
    },
    {
      "cell_type": "markdown",
      "source": "**Exercise 12 - Share your notebook through GitHub (3 pts)**",
      "metadata": {}
    },
    {
      "cell_type": "markdown",
      "source": "**Exercise 13 - Take a screenshot of the first page of the notebook. (1 pt)**",
      "metadata": {}
    }
  ]
}